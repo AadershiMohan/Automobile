{
 "cells": [
  {
   "cell_type": "markdown",
   "id": "7e21f12c",
   "metadata": {},
   "source": [
    "# Model For Automobile Price Prediction"
   ]
  },
  {
   "cell_type": "code",
   "execution_count": null,
   "id": "e2e1ce6b",
   "metadata": {},
   "outputs": [],
   "source": []
  },
  {
   "cell_type": "code",
   "execution_count": 1,
   "id": "f23e5c4b",
   "metadata": {},
   "outputs": [],
   "source": [
    "import warnings\n",
    "warnings.simplefilter(action=\"ignore\", category=FutureWarning)"
   ]
  },
  {
   "cell_type": "code",
   "execution_count": 164,
   "id": "2cfe2745",
   "metadata": {},
   "outputs": [],
   "source": [
    "# Importing necessary libraies\n",
    "\n",
    "import pandas as pd\n",
    "import matplotlib.pyplot as plt\n",
    "import seaborn as sns\n",
    "from scipy.stats import pearsonr\n",
    "from sklearn.linear_model import LinearRegression\n",
    "import statsmodels.api as sm"
   ]
  },
  {
   "cell_type": "code",
   "execution_count": 165,
   "id": "c7ea9ac2",
   "metadata": {},
   "outputs": [],
   "source": [
    "# Importing necessary libraies for reading and plotting\n",
    "\n",
    "import pandas as pd\n",
    "import numpy as np\n",
    "import matplotlib.pyplot as plt\n",
    "import seaborn as sns"
   ]
  },
  {
   "cell_type": "code",
   "execution_count": 166,
   "id": "0fcd22ed",
   "metadata": {},
   "outputs": [],
   "source": [
    "url = \"https://archive.ics.uci.edu/ml/machine-learning-databases/autos/imports-85.data\"\n",
    "df = pd.read_csv(url, header=None)"
   ]
  },
  {
   "cell_type": "code",
   "execution_count": 167,
   "id": "e8a68938",
   "metadata": {},
   "outputs": [
    {
     "data": {
      "text/html": [
       "<div>\n",
       "<style scoped>\n",
       "    .dataframe tbody tr th:only-of-type {\n",
       "        vertical-align: middle;\n",
       "    }\n",
       "\n",
       "    .dataframe tbody tr th {\n",
       "        vertical-align: top;\n",
       "    }\n",
       "\n",
       "    .dataframe thead th {\n",
       "        text-align: right;\n",
       "    }\n",
       "</style>\n",
       "<table border=\"1\" class=\"dataframe\">\n",
       "  <thead>\n",
       "    <tr style=\"text-align: right;\">\n",
       "      <th></th>\n",
       "      <th>0</th>\n",
       "      <th>1</th>\n",
       "      <th>2</th>\n",
       "      <th>3</th>\n",
       "      <th>4</th>\n",
       "      <th>5</th>\n",
       "      <th>6</th>\n",
       "      <th>7</th>\n",
       "      <th>8</th>\n",
       "      <th>9</th>\n",
       "      <th>...</th>\n",
       "      <th>16</th>\n",
       "      <th>17</th>\n",
       "      <th>18</th>\n",
       "      <th>19</th>\n",
       "      <th>20</th>\n",
       "      <th>21</th>\n",
       "      <th>22</th>\n",
       "      <th>23</th>\n",
       "      <th>24</th>\n",
       "      <th>25</th>\n",
       "    </tr>\n",
       "  </thead>\n",
       "  <tbody>\n",
       "    <tr>\n",
       "      <th>0</th>\n",
       "      <td>3</td>\n",
       "      <td>?</td>\n",
       "      <td>alfa-romero</td>\n",
       "      <td>gas</td>\n",
       "      <td>std</td>\n",
       "      <td>two</td>\n",
       "      <td>convertible</td>\n",
       "      <td>rwd</td>\n",
       "      <td>front</td>\n",
       "      <td>88.6</td>\n",
       "      <td>...</td>\n",
       "      <td>130</td>\n",
       "      <td>mpfi</td>\n",
       "      <td>3.47</td>\n",
       "      <td>2.68</td>\n",
       "      <td>9.0</td>\n",
       "      <td>111</td>\n",
       "      <td>5000</td>\n",
       "      <td>21</td>\n",
       "      <td>27</td>\n",
       "      <td>13495</td>\n",
       "    </tr>\n",
       "    <tr>\n",
       "      <th>1</th>\n",
       "      <td>3</td>\n",
       "      <td>?</td>\n",
       "      <td>alfa-romero</td>\n",
       "      <td>gas</td>\n",
       "      <td>std</td>\n",
       "      <td>two</td>\n",
       "      <td>convertible</td>\n",
       "      <td>rwd</td>\n",
       "      <td>front</td>\n",
       "      <td>88.6</td>\n",
       "      <td>...</td>\n",
       "      <td>130</td>\n",
       "      <td>mpfi</td>\n",
       "      <td>3.47</td>\n",
       "      <td>2.68</td>\n",
       "      <td>9.0</td>\n",
       "      <td>111</td>\n",
       "      <td>5000</td>\n",
       "      <td>21</td>\n",
       "      <td>27</td>\n",
       "      <td>16500</td>\n",
       "    </tr>\n",
       "    <tr>\n",
       "      <th>2</th>\n",
       "      <td>1</td>\n",
       "      <td>?</td>\n",
       "      <td>alfa-romero</td>\n",
       "      <td>gas</td>\n",
       "      <td>std</td>\n",
       "      <td>two</td>\n",
       "      <td>hatchback</td>\n",
       "      <td>rwd</td>\n",
       "      <td>front</td>\n",
       "      <td>94.5</td>\n",
       "      <td>...</td>\n",
       "      <td>152</td>\n",
       "      <td>mpfi</td>\n",
       "      <td>2.68</td>\n",
       "      <td>3.47</td>\n",
       "      <td>9.0</td>\n",
       "      <td>154</td>\n",
       "      <td>5000</td>\n",
       "      <td>19</td>\n",
       "      <td>26</td>\n",
       "      <td>16500</td>\n",
       "    </tr>\n",
       "  </tbody>\n",
       "</table>\n",
       "<p>3 rows × 26 columns</p>\n",
       "</div>"
      ],
      "text/plain": [
       "   0  1            2    3    4    5            6    7      8     9   ...   16  \\\n",
       "0   3  ?  alfa-romero  gas  std  two  convertible  rwd  front  88.6  ...  130   \n",
       "1   3  ?  alfa-romero  gas  std  two  convertible  rwd  front  88.6  ...  130   \n",
       "2   1  ?  alfa-romero  gas  std  two    hatchback  rwd  front  94.5  ...  152   \n",
       "\n",
       "     17    18    19   20   21    22  23  24     25  \n",
       "0  mpfi  3.47  2.68  9.0  111  5000  21  27  13495  \n",
       "1  mpfi  3.47  2.68  9.0  111  5000  21  27  16500  \n",
       "2  mpfi  2.68  3.47  9.0  154  5000  19  26  16500  \n",
       "\n",
       "[3 rows x 26 columns]"
      ]
     },
     "execution_count": 167,
     "metadata": {},
     "output_type": "execute_result"
    }
   ],
   "source": [
    "df.head(3)"
   ]
  },
  {
   "cell_type": "code",
   "execution_count": 168,
   "id": "bcb38742",
   "metadata": {},
   "outputs": [],
   "source": [
    "headers = [\"symboling\", \"normalizedlosses\", \"make\", \"fueltype\",\"aspiration\",\"numofdoors\",\n",
    "           \"bodystyle\",\"drivewheels\", \"enginelocation\", \"wheelbase\", \"length\", \"width\", \n",
    "           \"height\", \"curbweight\", \"enginetype\", \"numofcylinders\", \"enginesize\", \"fuelsystem\",\n",
    "           \"bore\", \"stroke\", \"compressionratio\", \"horsepower\", \"peakrpm\", \"citympg\", \n",
    "           \"highwaympg\", \"price\"]"
   ]
  },
  {
   "cell_type": "code",
   "execution_count": 169,
   "id": "12dd67cd",
   "metadata": {},
   "outputs": [
    {
     "data": {
      "text/html": [
       "<div>\n",
       "<style scoped>\n",
       "    .dataframe tbody tr th:only-of-type {\n",
       "        vertical-align: middle;\n",
       "    }\n",
       "\n",
       "    .dataframe tbody tr th {\n",
       "        vertical-align: top;\n",
       "    }\n",
       "\n",
       "    .dataframe thead th {\n",
       "        text-align: right;\n",
       "    }\n",
       "</style>\n",
       "<table border=\"1\" class=\"dataframe\">\n",
       "  <thead>\n",
       "    <tr style=\"text-align: right;\">\n",
       "      <th></th>\n",
       "      <th>symboling</th>\n",
       "      <th>normalizedlosses</th>\n",
       "      <th>make</th>\n",
       "      <th>fueltype</th>\n",
       "      <th>aspiration</th>\n",
       "      <th>numofdoors</th>\n",
       "      <th>bodystyle</th>\n",
       "      <th>drivewheels</th>\n",
       "      <th>enginelocation</th>\n",
       "      <th>wheelbase</th>\n",
       "      <th>...</th>\n",
       "      <th>enginesize</th>\n",
       "      <th>fuelsystem</th>\n",
       "      <th>bore</th>\n",
       "      <th>stroke</th>\n",
       "      <th>compressionratio</th>\n",
       "      <th>horsepower</th>\n",
       "      <th>peakrpm</th>\n",
       "      <th>citympg</th>\n",
       "      <th>highwaympg</th>\n",
       "      <th>price</th>\n",
       "    </tr>\n",
       "  </thead>\n",
       "  <tbody>\n",
       "    <tr>\n",
       "      <th>0</th>\n",
       "      <td>3</td>\n",
       "      <td>?</td>\n",
       "      <td>alfa-romero</td>\n",
       "      <td>gas</td>\n",
       "      <td>std</td>\n",
       "      <td>two</td>\n",
       "      <td>convertible</td>\n",
       "      <td>rwd</td>\n",
       "      <td>front</td>\n",
       "      <td>88.6</td>\n",
       "      <td>...</td>\n",
       "      <td>130</td>\n",
       "      <td>mpfi</td>\n",
       "      <td>3.47</td>\n",
       "      <td>2.68</td>\n",
       "      <td>9.0</td>\n",
       "      <td>111</td>\n",
       "      <td>5000</td>\n",
       "      <td>21</td>\n",
       "      <td>27</td>\n",
       "      <td>13495</td>\n",
       "    </tr>\n",
       "    <tr>\n",
       "      <th>1</th>\n",
       "      <td>3</td>\n",
       "      <td>?</td>\n",
       "      <td>alfa-romero</td>\n",
       "      <td>gas</td>\n",
       "      <td>std</td>\n",
       "      <td>two</td>\n",
       "      <td>convertible</td>\n",
       "      <td>rwd</td>\n",
       "      <td>front</td>\n",
       "      <td>88.6</td>\n",
       "      <td>...</td>\n",
       "      <td>130</td>\n",
       "      <td>mpfi</td>\n",
       "      <td>3.47</td>\n",
       "      <td>2.68</td>\n",
       "      <td>9.0</td>\n",
       "      <td>111</td>\n",
       "      <td>5000</td>\n",
       "      <td>21</td>\n",
       "      <td>27</td>\n",
       "      <td>16500</td>\n",
       "    </tr>\n",
       "    <tr>\n",
       "      <th>2</th>\n",
       "      <td>1</td>\n",
       "      <td>?</td>\n",
       "      <td>alfa-romero</td>\n",
       "      <td>gas</td>\n",
       "      <td>std</td>\n",
       "      <td>two</td>\n",
       "      <td>hatchback</td>\n",
       "      <td>rwd</td>\n",
       "      <td>front</td>\n",
       "      <td>94.5</td>\n",
       "      <td>...</td>\n",
       "      <td>152</td>\n",
       "      <td>mpfi</td>\n",
       "      <td>2.68</td>\n",
       "      <td>3.47</td>\n",
       "      <td>9.0</td>\n",
       "      <td>154</td>\n",
       "      <td>5000</td>\n",
       "      <td>19</td>\n",
       "      <td>26</td>\n",
       "      <td>16500</td>\n",
       "    </tr>\n",
       "  </tbody>\n",
       "</table>\n",
       "<p>3 rows × 26 columns</p>\n",
       "</div>"
      ],
      "text/plain": [
       "   symboling normalizedlosses         make fueltype aspiration numofdoors  \\\n",
       "0          3                ?  alfa-romero      gas        std        two   \n",
       "1          3                ?  alfa-romero      gas        std        two   \n",
       "2          1                ?  alfa-romero      gas        std        two   \n",
       "\n",
       "     bodystyle drivewheels enginelocation  wheelbase  ...  enginesize  \\\n",
       "0  convertible         rwd          front       88.6  ...         130   \n",
       "1  convertible         rwd          front       88.6  ...         130   \n",
       "2    hatchback         rwd          front       94.5  ...         152   \n",
       "\n",
       "   fuelsystem  bore  stroke compressionratio horsepower  peakrpm citympg  \\\n",
       "0        mpfi  3.47    2.68              9.0        111     5000      21   \n",
       "1        mpfi  3.47    2.68              9.0        111     5000      21   \n",
       "2        mpfi  2.68    3.47              9.0        154     5000      19   \n",
       "\n",
       "  highwaympg  price  \n",
       "0         27  13495  \n",
       "1         27  16500  \n",
       "2         26  16500  \n",
       "\n",
       "[3 rows x 26 columns]"
      ]
     },
     "execution_count": 169,
     "metadata": {},
     "output_type": "execute_result"
    }
   ],
   "source": [
    "df.columns = headers\n",
    "df.head(3)"
   ]
  },
  {
   "cell_type": "code",
   "execution_count": 170,
   "id": "54f299da",
   "metadata": {},
   "outputs": [
    {
     "data": {
      "text/html": [
       "<div>\n",
       "<style scoped>\n",
       "    .dataframe tbody tr th:only-of-type {\n",
       "        vertical-align: middle;\n",
       "    }\n",
       "\n",
       "    .dataframe tbody tr th {\n",
       "        vertical-align: top;\n",
       "    }\n",
       "\n",
       "    .dataframe thead th {\n",
       "        text-align: right;\n",
       "    }\n",
       "</style>\n",
       "<table border=\"1\" class=\"dataframe\">\n",
       "  <thead>\n",
       "    <tr style=\"text-align: right;\">\n",
       "      <th></th>\n",
       "      <th>symboling</th>\n",
       "      <th>wheelbase</th>\n",
       "      <th>length</th>\n",
       "      <th>width</th>\n",
       "      <th>height</th>\n",
       "      <th>curbweight</th>\n",
       "      <th>enginesize</th>\n",
       "      <th>compressionratio</th>\n",
       "      <th>citympg</th>\n",
       "      <th>highwaympg</th>\n",
       "    </tr>\n",
       "  </thead>\n",
       "  <tbody>\n",
       "    <tr>\n",
       "      <th>count</th>\n",
       "      <td>205.000000</td>\n",
       "      <td>205.000000</td>\n",
       "      <td>205.000000</td>\n",
       "      <td>205.000000</td>\n",
       "      <td>205.000000</td>\n",
       "      <td>205.000000</td>\n",
       "      <td>205.000000</td>\n",
       "      <td>205.000000</td>\n",
       "      <td>205.000000</td>\n",
       "      <td>205.000000</td>\n",
       "    </tr>\n",
       "    <tr>\n",
       "      <th>mean</th>\n",
       "      <td>0.834146</td>\n",
       "      <td>98.756585</td>\n",
       "      <td>174.049268</td>\n",
       "      <td>65.907805</td>\n",
       "      <td>53.724878</td>\n",
       "      <td>2555.565854</td>\n",
       "      <td>126.907317</td>\n",
       "      <td>10.142537</td>\n",
       "      <td>25.219512</td>\n",
       "      <td>30.751220</td>\n",
       "    </tr>\n",
       "    <tr>\n",
       "      <th>std</th>\n",
       "      <td>1.245307</td>\n",
       "      <td>6.021776</td>\n",
       "      <td>12.337289</td>\n",
       "      <td>2.145204</td>\n",
       "      <td>2.443522</td>\n",
       "      <td>520.680204</td>\n",
       "      <td>41.642693</td>\n",
       "      <td>3.972040</td>\n",
       "      <td>6.542142</td>\n",
       "      <td>6.886443</td>\n",
       "    </tr>\n",
       "    <tr>\n",
       "      <th>min</th>\n",
       "      <td>-2.000000</td>\n",
       "      <td>86.600000</td>\n",
       "      <td>141.100000</td>\n",
       "      <td>60.300000</td>\n",
       "      <td>47.800000</td>\n",
       "      <td>1488.000000</td>\n",
       "      <td>61.000000</td>\n",
       "      <td>7.000000</td>\n",
       "      <td>13.000000</td>\n",
       "      <td>16.000000</td>\n",
       "    </tr>\n",
       "    <tr>\n",
       "      <th>25%</th>\n",
       "      <td>0.000000</td>\n",
       "      <td>94.500000</td>\n",
       "      <td>166.300000</td>\n",
       "      <td>64.100000</td>\n",
       "      <td>52.000000</td>\n",
       "      <td>2145.000000</td>\n",
       "      <td>97.000000</td>\n",
       "      <td>8.600000</td>\n",
       "      <td>19.000000</td>\n",
       "      <td>25.000000</td>\n",
       "    </tr>\n",
       "    <tr>\n",
       "      <th>50%</th>\n",
       "      <td>1.000000</td>\n",
       "      <td>97.000000</td>\n",
       "      <td>173.200000</td>\n",
       "      <td>65.500000</td>\n",
       "      <td>54.100000</td>\n",
       "      <td>2414.000000</td>\n",
       "      <td>120.000000</td>\n",
       "      <td>9.000000</td>\n",
       "      <td>24.000000</td>\n",
       "      <td>30.000000</td>\n",
       "    </tr>\n",
       "    <tr>\n",
       "      <th>75%</th>\n",
       "      <td>2.000000</td>\n",
       "      <td>102.400000</td>\n",
       "      <td>183.100000</td>\n",
       "      <td>66.900000</td>\n",
       "      <td>55.500000</td>\n",
       "      <td>2935.000000</td>\n",
       "      <td>141.000000</td>\n",
       "      <td>9.400000</td>\n",
       "      <td>30.000000</td>\n",
       "      <td>34.000000</td>\n",
       "    </tr>\n",
       "    <tr>\n",
       "      <th>max</th>\n",
       "      <td>3.000000</td>\n",
       "      <td>120.900000</td>\n",
       "      <td>208.100000</td>\n",
       "      <td>72.300000</td>\n",
       "      <td>59.800000</td>\n",
       "      <td>4066.000000</td>\n",
       "      <td>326.000000</td>\n",
       "      <td>23.000000</td>\n",
       "      <td>49.000000</td>\n",
       "      <td>54.000000</td>\n",
       "    </tr>\n",
       "  </tbody>\n",
       "</table>\n",
       "</div>"
      ],
      "text/plain": [
       "        symboling   wheelbase      length       width      height  \\\n",
       "count  205.000000  205.000000  205.000000  205.000000  205.000000   \n",
       "mean     0.834146   98.756585  174.049268   65.907805   53.724878   \n",
       "std      1.245307    6.021776   12.337289    2.145204    2.443522   \n",
       "min     -2.000000   86.600000  141.100000   60.300000   47.800000   \n",
       "25%      0.000000   94.500000  166.300000   64.100000   52.000000   \n",
       "50%      1.000000   97.000000  173.200000   65.500000   54.100000   \n",
       "75%      2.000000  102.400000  183.100000   66.900000   55.500000   \n",
       "max      3.000000  120.900000  208.100000   72.300000   59.800000   \n",
       "\n",
       "        curbweight  enginesize  compressionratio     citympg  highwaympg  \n",
       "count   205.000000  205.000000        205.000000  205.000000  205.000000  \n",
       "mean   2555.565854  126.907317         10.142537   25.219512   30.751220  \n",
       "std     520.680204   41.642693          3.972040    6.542142    6.886443  \n",
       "min    1488.000000   61.000000          7.000000   13.000000   16.000000  \n",
       "25%    2145.000000   97.000000          8.600000   19.000000   25.000000  \n",
       "50%    2414.000000  120.000000          9.000000   24.000000   30.000000  \n",
       "75%    2935.000000  141.000000          9.400000   30.000000   34.000000  \n",
       "max    4066.000000  326.000000         23.000000   49.000000   54.000000  "
      ]
     },
     "execution_count": 170,
     "metadata": {},
     "output_type": "execute_result"
    }
   ],
   "source": [
    "df.describe()"
   ]
  },
  {
   "cell_type": "code",
   "execution_count": 171,
   "id": "5ef38a60",
   "metadata": {},
   "outputs": [
    {
     "data": {
      "text/plain": [
       "(205, 26)"
      ]
     },
     "execution_count": 171,
     "metadata": {},
     "output_type": "execute_result"
    }
   ],
   "source": [
    "df.shape"
   ]
  },
  {
   "cell_type": "code",
   "execution_count": 172,
   "id": "08f5df53",
   "metadata": {},
   "outputs": [],
   "source": [
    "df1 = df.replace('?', np.NaN, inplace= True)\n",
    "df1"
   ]
  },
  {
   "cell_type": "code",
   "execution_count": 173,
   "id": "246a75c5",
   "metadata": {},
   "outputs": [
    {
     "name": "stdout",
     "output_type": "stream",
     "text": [
      "<class 'pandas.core.frame.DataFrame'>\n",
      "RangeIndex: 205 entries, 0 to 204\n",
      "Data columns (total 26 columns):\n",
      " #   Column            Non-Null Count  Dtype  \n",
      "---  ------            --------------  -----  \n",
      " 0   symboling         205 non-null    int64  \n",
      " 1   normalizedlosses  164 non-null    object \n",
      " 2   make              205 non-null    object \n",
      " 3   fueltype          205 non-null    object \n",
      " 4   aspiration        205 non-null    object \n",
      " 5   numofdoors        203 non-null    object \n",
      " 6   bodystyle         205 non-null    object \n",
      " 7   drivewheels       205 non-null    object \n",
      " 8   enginelocation    205 non-null    object \n",
      " 9   wheelbase         205 non-null    float64\n",
      " 10  length            205 non-null    float64\n",
      " 11  width             205 non-null    float64\n",
      " 12  height            205 non-null    float64\n",
      " 13  curbweight        205 non-null    int64  \n",
      " 14  enginetype        205 non-null    object \n",
      " 15  numofcylinders    205 non-null    object \n",
      " 16  enginesize        205 non-null    int64  \n",
      " 17  fuelsystem        205 non-null    object \n",
      " 18  bore              201 non-null    object \n",
      " 19  stroke            201 non-null    object \n",
      " 20  compressionratio  205 non-null    float64\n",
      " 21  horsepower        203 non-null    object \n",
      " 22  peakrpm           203 non-null    object \n",
      " 23  citympg           205 non-null    int64  \n",
      " 24  highwaympg        205 non-null    int64  \n",
      " 25  price             201 non-null    object \n",
      "dtypes: float64(5), int64(5), object(16)\n",
      "memory usage: 41.8+ KB\n"
     ]
    }
   ],
   "source": [
    "df.info()"
   ]
  },
  {
   "cell_type": "code",
   "execution_count": 174,
   "id": "ef8012b6",
   "metadata": {},
   "outputs": [
    {
     "data": {
      "text/plain": [
       "Index(['symboling', 'normalizedlosses', 'make', 'fueltype', 'aspiration',\n",
       "       'numofdoors', 'bodystyle', 'drivewheels', 'enginelocation', 'wheelbase',\n",
       "       'length', 'width', 'height', 'curbweight', 'enginetype',\n",
       "       'numofcylinders', 'enginesize', 'fuelsystem', 'bore', 'stroke',\n",
       "       'compressionratio', 'horsepower', 'peakrpm', 'citympg', 'highwaympg',\n",
       "       'price'],\n",
       "      dtype='object')"
      ]
     },
     "execution_count": 174,
     "metadata": {},
     "output_type": "execute_result"
    }
   ],
   "source": [
    "df.columns"
   ]
  },
  {
   "cell_type": "code",
   "execution_count": 175,
   "id": "88332ba1",
   "metadata": {},
   "outputs": [
    {
     "data": {
      "text/plain": [
       "symboling            0\n",
       "normalizedlosses    41\n",
       "make                 0\n",
       "fueltype             0\n",
       "aspiration           0\n",
       "numofdoors           2\n",
       "bodystyle            0\n",
       "drivewheels          0\n",
       "enginelocation       0\n",
       "wheelbase            0\n",
       "length               0\n",
       "width                0\n",
       "height               0\n",
       "curbweight           0\n",
       "enginetype           0\n",
       "numofcylinders       0\n",
       "enginesize           0\n",
       "fuelsystem           0\n",
       "bore                 4\n",
       "stroke               4\n",
       "compressionratio     0\n",
       "horsepower           2\n",
       "peakrpm              2\n",
       "citympg              0\n",
       "highwaympg           0\n",
       "price                4\n",
       "dtype: int64"
      ]
     },
     "execution_count": 175,
     "metadata": {},
     "output_type": "execute_result"
    }
   ],
   "source": [
    "df.isnull().sum()"
   ]
  },
  {
   "cell_type": "code",
   "execution_count": 176,
   "id": "289e7c7a",
   "metadata": {
    "scrolled": false
   },
   "outputs": [
    {
     "name": "stdout",
     "output_type": "stream",
     "text": [
      "Unique Elements in Each Column\n",
      "normalizedlosses = [nan '164' '158' '192' '188' '121' '98' '81' '118' '148' '110' '145' '137'\n",
      " '101' '78' '106' '85' '107' '104' '113' '150' '129' '115' '93' '142'\n",
      " '161' '153' '125' '128' '122' '103' '168' '108' '194' '231' '119' '154'\n",
      " '74' '186' '83' '102' '89' '87' '77' '91' '134' '65' '197' '90' '94'\n",
      " '256' '95']\n",
      " \n",
      "numofdoors = ['two' 'four' nan]\n",
      " \n",
      "bore = ['3.47' '2.68' '3.19' '3.13' '3.50' '3.31' '3.62' '2.91' '3.03' '2.97'\n",
      " '3.34' '3.60' '2.92' '3.15' '3.43' '3.63' '3.54' '3.08' nan '3.39' '3.76'\n",
      " '3.58' '3.46' '3.80' '3.78' '3.17' '3.35' '3.59' '2.99' '3.33' '3.70'\n",
      " '3.61' '3.94' '3.74' '2.54' '3.05' '3.27' '3.24' '3.01']\n",
      " \n",
      "stroke = ['2.68' '3.47' '3.40' '2.80' '3.19' '3.39' '3.03' '3.11' '3.23' '3.46'\n",
      " '3.90' '3.41' '3.07' '3.58' '4.17' '2.76' '3.15' nan '3.16' '3.64' '3.10'\n",
      " '3.35' '3.12' '3.86' '3.29' '3.27' '3.52' '2.19' '3.21' '2.90' '2.07'\n",
      " '2.36' '2.64' '3.08' '3.50' '3.54' '2.87']\n",
      " \n",
      "horsepower = ['111' '154' '102' '115' '110' '140' '160' '101' '121' '182' '48' '70'\n",
      " '68' '88' '145' '58' '76' '60' '86' '100' '78' '90' '176' '262' '135'\n",
      " '84' '64' '120' '72' '123' '155' '184' '175' '116' '69' '55' '97' '152'\n",
      " '200' '95' '142' '143' '207' '288' nan '73' '82' '94' '62' '56' '112'\n",
      " '92' '161' '156' '52' '85' '114' '162' '134' '106']\n",
      " \n",
      "peakrpm = ['5000' '5500' '5800' '4250' '5400' '5100' '4800' '6000' '4750' '4650'\n",
      " '4200' '4350' '4500' '5200' '4150' '5600' '5900' '5750' nan '5250' '4900'\n",
      " '4400' '6600' '5300']\n",
      " \n"
     ]
    }
   ],
   "source": [
    "# Columns in \"Automobile Dataset\"\n",
    "d = ['normalizedlosses','numofdoors','bore','stroke','horsepower','peakrpm']\n",
    "print('Unique Elements in Each Column')\n",
    "\n",
    "# Unique Elements in each column\n",
    "for i in d:\n",
    "    x = df[i].unique()\n",
    "    print(i, '=' ,x)\n",
    "    print(' ')"
   ]
  },
  {
   "cell_type": "code",
   "execution_count": 177,
   "id": "56cbcd12",
   "metadata": {},
   "outputs": [],
   "source": [
    "normloss = df[\"normalizedlosses\"].astype(\"float\").mean(axis=0)\n",
    "# print(\"Average of normalizedlosses:\", normloss)\n",
    "df[\"normalizedlosses\"].replace(np.nan, normloss, inplace=True)"
   ]
  },
  {
   "cell_type": "code",
   "execution_count": 178,
   "id": "589ae6a1",
   "metadata": {},
   "outputs": [],
   "source": [
    "avg_bore=df['bore'].astype('float').mean(axis=0)\n",
    "# print(\"Average of bore:\", avg_bore)\n",
    "df[\"bore\"].replace(np.nan, avg_bore, inplace=True)"
   ]
  },
  {
   "cell_type": "code",
   "execution_count": 179,
   "id": "561a9d7e",
   "metadata": {},
   "outputs": [],
   "source": [
    "avg_stroke = df[\"stroke\"].astype(\"float\").mean(axis = 0)\n",
    "# print(\"Average of stroke:\", avg_stroke)\n",
    "df[\"stroke\"].replace(np.nan, avg_stroke, inplace = True)"
   ]
  },
  {
   "cell_type": "code",
   "execution_count": 180,
   "id": "f62fde1e",
   "metadata": {},
   "outputs": [],
   "source": [
    "avg_horsepower = df['horsepower'].astype('float').mean(axis=0)\n",
    "# print(\"Average horsepower:\", avg_horsepower)\n",
    "df['horsepower'].replace(np.nan, avg_horsepower, inplace=True)"
   ]
  },
  {
   "cell_type": "code",
   "execution_count": 181,
   "id": "b11f708f",
   "metadata": {},
   "outputs": [],
   "source": [
    "avg_peakrpm=df['peakrpm'].astype('float').mean(axis=0)\n",
    "# print(\"Average peak rpm:\", avg_peakrpm)\n",
    "df['peakrpm'].replace(np.nan, avg_peakrpm, inplace=True)"
   ]
  },
  {
   "cell_type": "code",
   "execution_count": 182,
   "id": "ee86fe9e",
   "metadata": {},
   "outputs": [],
   "source": [
    "# df['numofdoors'].value_counts()\n",
    "df['numofdoors'].value_counts().idxmax()       \n",
    "# .max() will give index and .idxmax() value\n",
    "df[\"numofdoors\"].replace(np.nan, \"four\", inplace=True)"
   ]
  },
  {
   "cell_type": "code",
   "execution_count": 183,
   "id": "a7c86771",
   "metadata": {},
   "outputs": [],
   "source": [
    "# simply drop whole row with NaN in \"price\" column\n",
    "df.dropna(subset=[\"price\"], axis=0, inplace=True)\n",
    "\n",
    "# reset index, because we droped two rows\n",
    "df.reset_index(drop=True, inplace=True)"
   ]
  },
  {
   "cell_type": "code",
   "execution_count": 184,
   "id": "92b1378c",
   "metadata": {},
   "outputs": [
    {
     "data": {
      "text/plain": [
       "symboling           0\n",
       "normalizedlosses    0\n",
       "make                0\n",
       "fueltype            0\n",
       "aspiration          0\n",
       "numofdoors          0\n",
       "bodystyle           0\n",
       "drivewheels         0\n",
       "enginelocation      0\n",
       "wheelbase           0\n",
       "length              0\n",
       "width               0\n",
       "height              0\n",
       "curbweight          0\n",
       "enginetype          0\n",
       "numofcylinders      0\n",
       "enginesize          0\n",
       "fuelsystem          0\n",
       "bore                0\n",
       "stroke              0\n",
       "compressionratio    0\n",
       "horsepower          0\n",
       "peakrpm             0\n",
       "citympg             0\n",
       "highwaympg          0\n",
       "price               0\n",
       "dtype: int64"
      ]
     },
     "execution_count": 184,
     "metadata": {},
     "output_type": "execute_result"
    }
   ],
   "source": [
    "df.isnull().sum()"
   ]
  },
  {
   "cell_type": "code",
   "execution_count": 185,
   "id": "3367f41a",
   "metadata": {},
   "outputs": [],
   "source": [
    "# Columns with incorrect dtype in \"Automobile Dataset\"\n",
    "d = ['normalizedlosses','bore','stroke','horsepower','peakrpm','price']\n",
    "\n",
    "# Change Dtype of the columns\n",
    "for i in d:\n",
    "    df[i] = df[i].astype('float64')"
   ]
  },
  {
   "cell_type": "code",
   "execution_count": 186,
   "id": "fce1abf0",
   "metadata": {},
   "outputs": [
    {
     "data": {
      "text/plain": [
       "symboling             int64\n",
       "normalizedlosses    float64\n",
       "make                 object\n",
       "fueltype             object\n",
       "aspiration           object\n",
       "numofdoors           object\n",
       "bodystyle            object\n",
       "drivewheels          object\n",
       "enginelocation       object\n",
       "wheelbase           float64\n",
       "length              float64\n",
       "width               float64\n",
       "height              float64\n",
       "curbweight            int64\n",
       "enginetype           object\n",
       "numofcylinders       object\n",
       "enginesize            int64\n",
       "fuelsystem           object\n",
       "bore                float64\n",
       "stroke              float64\n",
       "compressionratio    float64\n",
       "horsepower          float64\n",
       "peakrpm             float64\n",
       "citympg               int64\n",
       "highwaympg            int64\n",
       "price               float64\n",
       "dtype: object"
      ]
     },
     "execution_count": 186,
     "metadata": {},
     "output_type": "execute_result"
    }
   ],
   "source": [
    "df.dtypes"
   ]
  },
  {
   "cell_type": "code",
   "execution_count": 187,
   "id": "61c44937",
   "metadata": {},
   "outputs": [],
   "source": [
    "## Full heatmap\n",
    "# plt.subplots(figsize=(20,15))\n",
    "# sns.heatmap(data.corr(), cmap=\"YlGnBu\", annot=True, annot_kws={'size': 15})\n",
    "# ( triu is upper triangle and tril is lower triangle)"
   ]
  },
  {
   "cell_type": "code",
   "execution_count": 188,
   "id": "8ab5845d",
   "metadata": {},
   "outputs": [
    {
     "data": {
      "text/plain": [
       "<AxesSubplot:>"
      ]
     },
     "execution_count": 188,
     "metadata": {},
     "output_type": "execute_result"
    },
    {
     "data": {
      "image/png": "[encoded data removed]",
      "text/plain": [
       "<Figure size 1008x576 with 2 Axes>"
      ]
     },
     "metadata": {
      "needs_background": "light"
     },
     "output_type": "display_data"
    }
   ],
   "source": [
    "# Correlation\n",
    "corr= df.corr()\n",
    "\n",
    "# Getting the Upper Triangle of the co-relation matrix  \n",
    "matrix = np.triu(corr)\n",
    "\n",
    "# Size \n",
    "plt.subplots(figsize=(14,8))\n",
    "\n",
    "# using the upper triangle matrix as mask \n",
    "sns.heatmap(corr, annot=True, mask=matrix)"
   ]
  },
  {
   "cell_type": "markdown",
   "id": "03919c3e",
   "metadata": {},
   "source": [
    "<!-- **Checking the significance of the factors: using p-value test** -->"
   ]
  },
  {
   "cell_type": "code",
   "execution_count": null,
   "id": "8639ef2e",
   "metadata": {},
   "outputs": [],
   "source": []
  },
  {
   "cell_type": "markdown",
   "id": "c9ee4334",
   "metadata": {},
   "source": [
    "**Let's view the relationship of these factors with 'price'**"
   ]
  },
  {
   "cell_type": "code",
   "execution_count": 189,
   "id": "3f6e56ff",
   "metadata": {},
   "outputs": [
    {
     "data": {
      "text/plain": [
       "<matplotlib.legend.Legend at 0x1bc7b01d160>"
      ]
     },
     "execution_count": 189,
     "metadata": {},
     "output_type": "execute_result"
    },
    {
     "data": {
      "image/png": "[encoded data removed]",
      "text/plain": [
       "<Figure size 1440x432 with 5 Axes>"
      ]
     },
     "metadata": {},
     "output_type": "display_data"
    }
   ],
   "source": [
    "fig = plt.figure(figsize=(20,6),facecolor=(0.850, 0.800, 0.898))\n",
    "fig.suptitle(\"Relationship of 'Price' with other components.\", fontsize=25)\n",
    "plt.subplot(1,5,1)\n",
    "plt.scatter(df['width'], df['price'])\n",
    "plt.legend([\"Width\"], facecolor='bisque',\n",
    "           loc='upper center', bbox_to_anchor=(0.5, -0.08))\n",
    "\n",
    "plt.subplot(1,5,2)\n",
    "plt.scatter(df['curbweight'], df['price'], color='orange')\n",
    "plt.legend([\"CurbWeight\"], facecolor='bisque', \n",
    "           loc='upper center', bbox_to_anchor=(0.5, -0.08))\n",
    "           \n",
    "plt.subplot(1,5,3)\n",
    "plt.scatter(df['enginesize'], df['price'], color='pink')\n",
    "plt.legend([\"EngineSize\"], facecolor='bisque', \n",
    "           loc='upper center', bbox_to_anchor=(0.5, -0.08))\n",
    "\n",
    "plt.subplot(1,5,4)\n",
    "plt.scatter(df['horsepower'], df['price'], color='green')\n",
    "plt.legend([\"HorsePower\"], facecolor='bisque', \n",
    "           loc='upper center', bbox_to_anchor=(0.5, -0.08))\n",
    "\n",
    "plt.subplot(1,5,5)\n",
    "plt.scatter(df['highwaympg'], df['price'])\n",
    "plt.legend(['HighwayMpg'], facecolor='bisque', \n",
    "           loc='upper center', bbox_to_anchor=(0.5, -0.08))\n"
   ]
  },
  {
   "cell_type": "markdown",
   "id": "b2052675",
   "metadata": {},
   "source": [
    "**Case 1:**\n",
    "    \n",
    "**-1 <= r <= -0.5** and **0.5 <= r <= 1**"
   ]
  },
  {
   "cell_type": "code",
   "execution_count": 190,
   "id": "bc0a24c4",
   "metadata": {},
   "outputs": [
    {
     "data": {
      "text/plain": [
       "LinearRegression()"
      ]
     },
     "execution_count": 190,
     "metadata": {},
     "output_type": "execute_result"
    }
   ],
   "source": [
    "z1 = df[['wheelbase','length','width','curbweight',\n",
    "    'enginesize','bore','horsepower','citympg','highwaympg']]\n",
    "y = df['price']\n",
    "lm1 = LinearRegression()\n",
    "lm1.fit(z1, y)"
   ]
  },
  {
   "cell_type": "code",
   "execution_count": 191,
   "id": "ba6d269c",
   "metadata": {},
   "outputs": [
    {
     "name": "stdout",
     "output_type": "stream",
     "text": [
      "0.8105211859038669\n"
     ]
    }
   ],
   "source": [
    "z1 = sm.add_constant(z1)\n",
    "model1 = sm.OLS(df['price'], z1).fit()\n",
    "\n",
    "#display adjusted R-squared\n",
    "print(model1.rsquared_adj)"
   ]
  },
  {
   "cell_type": "markdown",
   "id": "e63469cb",
   "metadata": {},
   "source": [
    "**Case 2:**\n",
    "    \n",
    "**-1 <= r <= -0.65** and **0.65 <= r <= 1**"
   ]
  },
  {
   "cell_type": "code",
   "execution_count": 192,
   "id": "252fd345",
   "metadata": {},
   "outputs": [
    {
     "data": {
      "text/plain": [
       "LinearRegression()"
      ]
     },
     "execution_count": 192,
     "metadata": {},
     "output_type": "execute_result"
    }
   ],
   "source": [
    "z2 = df[['length','width','curbweight','enginesize',\n",
    "         'horsepower','citympg','highwaympg']]\n",
    "y = df['price']\n",
    "lm2 = LinearRegression()\n",
    "lm2.fit(z2,y)"
   ]
  },
  {
   "cell_type": "code",
   "execution_count": 193,
   "id": "ce414e94",
   "metadata": {},
   "outputs": [
    {
     "name": "stdout",
     "output_type": "stream",
     "text": [
      "0.8106692937449689\n"
     ]
    }
   ],
   "source": [
    "z2 = sm.add_constant(z2)\n",
    "model2 = sm.OLS(y, z2).fit()\n",
    "\n",
    "#display adjusted R-squared\n",
    "print(model2.rsquared_adj)"
   ]
  },
  {
   "cell_type": "markdown",
   "id": "40f0f8be",
   "metadata": {},
   "source": [
    "**Case 3:**\n",
    "    \n",
    "**-1 <= r <= -0.7** and **0.7 <= r <= 1**"
   ]
  },
  {
   "cell_type": "code",
   "execution_count": 194,
   "id": "c0f18460",
   "metadata": {},
   "outputs": [
    {
     "data": {
      "text/plain": [
       "LinearRegression()"
      ]
     },
     "execution_count": 194,
     "metadata": {},
     "output_type": "execute_result"
    }
   ],
   "source": [
    "z3 = df[['width','curbweight','enginesize'\n",
    "         ,'horsepower','highwaympg']]\n",
    "y = df['price']\n",
    "lm3 = LinearRegression()\n",
    "lm3.fit(z3,y)"
   ]
  },
  {
   "cell_type": "code",
   "execution_count": 195,
   "id": "e1e045c3",
   "metadata": {},
   "outputs": [
    {
     "name": "stdout",
     "output_type": "stream",
     "text": [
      "0.8116250089147844\n"
     ]
    }
   ],
   "source": [
    "z3= sm.add_constant(z3)\n",
    "model3 = sm.OLS(y,z3).fit()\n",
    "\n",
    "#display adjusted R-squared\n",
    "print(model3.rsquared_adj)"
   ]
  },
  {
   "cell_type": "markdown",
   "id": "d1f6a244",
   "metadata": {},
   "source": [
    "**Case 4:**\n",
    "    \n",
    "**-1 <= r <= -0.8** and **0.8 <= r <= 1**"
   ]
  },
  {
   "cell_type": "code",
   "execution_count": 196,
   "id": "6980131d",
   "metadata": {},
   "outputs": [
    {
     "data": {
      "text/plain": [
       "LinearRegression()"
      ]
     },
     "execution_count": 196,
     "metadata": {},
     "output_type": "execute_result"
    }
   ],
   "source": [
    "z4 = df[['curbweight','enginesize','horsepower']]\n",
    "y = df['price']\n",
    "lm4 = LinearRegression()\n",
    "lm4.fit(z4, y)"
   ]
  },
  {
   "cell_type": "code",
   "execution_count": 197,
   "id": "0d6deb28",
   "metadata": {},
   "outputs": [
    {
     "name": "stdout",
     "output_type": "stream",
     "text": [
      "0.8062196745466127\n"
     ]
    }
   ],
   "source": [
    "z4= sm.add_constant(z4)\n",
    "model4 = sm.OLS(y, z4).fit()\n",
    "\n",
    "#display adjusted R-squared\n",
    "print(model4.rsquared_adj)"
   ]
  },
  {
   "cell_type": "code",
   "execution_count": null,
   "id": "d52945e2",
   "metadata": {},
   "outputs": [],
   "source": []
  },
  {
   "cell_type": "code",
   "execution_count": null,
   "id": "92ebad03",
   "metadata": {},
   "outputs": [],
   "source": []
  },
  {
   "cell_type": "code",
   "execution_count": 198,
   "id": "e3c337e9",
   "metadata": {},
   "outputs": [],
   "source": [
    "# x = df['citympg']\n",
    "# f = np.polyfit(x, y, 3)\n",
    "# p = np.poly1d(f)\n",
    "# print(p)"
   ]
  },
  {
   "cell_type": "code",
   "execution_count": 199,
   "id": "4146520d",
   "metadata": {},
   "outputs": [],
   "source": [
    "# def PlotPolly(model, independent_variable, dependent_variabble, Name):\n",
    "#     x_new = np.linspace(15, 55, 100)\n",
    "#     y_new = model(x_new)\n",
    "\n",
    "#     plt.plot(independent_variable, dependent_variabble, '.', x_new, y_new, '-')\n",
    "#     plt.title('Polynomial Fit with Matplotlib for Price ~ Length')\n",
    "#     ax = plt.gca()\n",
    "#     ax.set_facecolor((0.898, 0.898, 0.898))\n",
    "#     fig = plt.gcf()\n",
    "#     plt.xlabel(Name)\n",
    "#     plt.ylabel('Price of Cars')\n",
    "\n",
    "#     plt.show()\n",
    "#     plt.close()"
   ]
  },
  {
   "cell_type": "code",
   "execution_count": 200,
   "id": "98cd6d41",
   "metadata": {},
   "outputs": [],
   "source": [
    "# PlotPolly(p, x, y, 'highway-mpg')"
   ]
  },
  {
   "cell_type": "code",
   "execution_count": null,
   "id": "15a67daa",
   "metadata": {},
   "outputs": [],
   "source": []
  },
  {
   "cell_type": "markdown",
   "id": "73b3d1f7",
   "metadata": {},
   "source": [
    "**Price Prediction using factors whose correlation cofficient is either:**\n",
    "\n",
    "**-1 <= r <= -0.7** and **0.7 <= r <= 1**"
   ]
  },
  {
   "cell_type": "code",
   "execution_count": 201,
   "id": "bf1d609c",
   "metadata": {},
   "outputs": [
    {
     "data": {
      "text/plain": [
       "LinearRegression()"
      ]
     },
     "execution_count": 201,
     "metadata": {},
     "output_type": "execute_result"
    }
   ],
   "source": [
    "z3 = df[['width','curbweight','enginesize','horsepower','highwaympg']]\n",
    "\n",
    "lm = LinearRegression()\n",
    "lm.fit(z3, df['price'])"
   ]
  },
  {
   "cell_type": "code",
   "execution_count": 202,
   "id": "25cfbb1a",
   "metadata": {},
   "outputs": [],
   "source": [
    "Yhat = lm.predict(z3)"
   ]
  },
  {
   "cell_type": "code",
   "execution_count": 203,
   "id": "00b15fb6",
   "metadata": {},
   "outputs": [
    {
     "data": {
      "text/plain": [
       "-52880.0422714663"
      ]
     },
     "execution_count": 203,
     "metadata": {},
     "output_type": "execute_result"
    }
   ],
   "source": [
    "lm.intercept_"
   ]
  },
  {
   "cell_type": "code",
   "execution_count": 204,
   "id": "2483abfa",
   "metadata": {},
   "outputs": [
    {
     "data": {
      "text/plain": [
       "array([639.65214095,   2.45568102,  78.84796991,  59.41789604,\n",
       "        49.44085428])"
      ]
     },
     "execution_count": 204,
     "metadata": {},
     "output_type": "execute_result"
    }
   ],
   "source": [
    "lm.coef_"
   ]
  },
  {
   "cell_type": "markdown",
   "id": "2bd98be9",
   "metadata": {},
   "source": [
    "**Estimated Model is:**\n",
    "\n",
    "Price = -52880.042  + (639.652)* width + (2.455)* curbweight+ (78.847)* enginesize + \n",
    "(59.41)* horsepower + (49.440)* highwaympg"
   ]
  },
  {
   "cell_type": "markdown",
   "id": "5ea86376",
   "metadata": {},
   "source": [
    "**Comparing the Actual Values with fitted data**"
   ]
  },
  {
   "cell_type": "code",
   "execution_count": 45,
   "id": "70464735",
   "metadata": {},
   "outputs": [],
   "source": [
    "# plt.figure(figsize=(6, 4), dpi=100)\n",
    "\n",
    "# ax1 = sns.distplot(df['price'], hist=False, color=\"r\", label=\"Actual Value\")\n",
    "# sns.distplot(Yhat2, hist=False, color=\"b\", label=\"Fitted Values\" , ax=ax1)\n",
    "\n",
    "\n",
    "# plt.title('Actual vs Fitted Values for Price')\n",
    "# plt.xlabel('Price (in dollars)')\n",
    "\n",
    "# plt.show()"
   ]
  },
  {
   "cell_type": "markdown",
   "id": "a5d0f055",
   "metadata": {},
   "source": [
    "And to calculate the price we can enter the values of the features below:"
   ]
  },
  {
   "cell_type": "code",
   "execution_count": 54,
   "id": "2efd494d",
   "metadata": {},
   "outputs": [],
   "source": [
    "# # Calculate the predicted price\n",
    "\n",
    "# w = float(input(\"Enter width of your car: \"))\n",
    "# cb = float(input(\"Enter curbweight of your car: \"))\n",
    "# es = float(input(\"Enter enginesize of your car: \"))\n",
    "# hp = float(input(\"Enter horsepower of your car: \"))\n",
    "# hm = float(input(\"Enter highwaympg of your car: \"))\n",
    "\n",
    "# Price = -52880.042  + (639.652)* w + (2.455)* cb + (78.847)* es + (59.41)* hp + (49.440)* hm\n",
    "\n",
    "# print(\"The predicted price for your model is: \",Price)"
   ]
  },
  {
   "cell_type": "code",
   "execution_count": null,
   "id": "4cc372b5",
   "metadata": {},
   "outputs": [],
   "source": []
  },
  {
   "cell_type": "code",
   "execution_count": null,
   "id": "831b88f8",
   "metadata": {},
   "outputs": [],
   "source": [
    "# d1 = ['wheelbase','length','width','curbweight','enginesize','bore','horsepower','citympg','highwaympg']\n",
    "\n",
    "# for i in d1:\n",
    "#     _, p_value = st.pearsonr(df[i], df['price'])\n",
    "#     print(\"P-value for X =\",i,\", Y = Price is \", p_value)"
   ]
  },
  {
   "cell_type": "code",
   "execution_count": null,
   "id": "d001b4c0",
   "metadata": {},
   "outputs": [],
   "source": []
  },
  {
   "cell_type": "code",
   "execution_count": null,
   "id": "9e71aa08",
   "metadata": {},
   "outputs": [],
   "source": []
  },
  {
   "cell_type": "code",
   "execution_count": null,
   "id": "3708c300",
   "metadata": {},
   "outputs": [],
   "source": []
  }
 ],
 "metadata": {
  "kernelspec": {
   "display_name": "Python 3 (ipykernel)",
   "language": "python",
   "name": "python3"
  },
  "language_info": {
   "codemirror_mode": {
    "name": "ipython",
    "version": 3
   },
   "file_extension": ".py",
   "mimetype": "text/x-python",
   "name": "python",
   "nbconvert_exporter": "python",
   "pygments_lexer": "ipython3",
   "version": "3.9.12"
  }
 },
 "nbformat": 4,
 "nbformat_minor": 5
}
